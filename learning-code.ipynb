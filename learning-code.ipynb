{
 "cells": [
  {
   "cell_type": "markdown",
   "metadata": {},
   "source": [
    "![Callysto.ca Banner](https://github.com/callysto/curriculum-notebooks/blob/master/callysto-notebook-banner-top.jpg?raw=true)"
   ]
  },
  {
   "cell_type": "markdown",
   "metadata": {},
   "source": [
    "# <p style=\"text-align: center;\"> Breaking code and breaking down the code</p>"
   ]
  },
  {
   "cell_type": "markdown",
   "metadata": {},
   "source": [
    "## Breaking code example: The csv and the circle graph"
   ]
  },
  {
   "cell_type": "markdown",
   "metadata": {},
   "source": [
    "<h3>Data source: <a href = \"https://www.uefa.com/uefachampionsleague/season=2021/statistics/round=2001252/clubs/kind=distribution/index.html\">UEFA Champions League</a></h3>"
   ]
  },
  {
   "cell_type": "code",
   "execution_count": null,
   "metadata": {
    "scrolled": false
   },
   "outputs": [],
   "source": [
    "%%html\n",
    "<iframe src=\"https://www.uefa.com/uefachampionsleague/season=2021/statistics/round=2001252/clubs/kind=goaltypes/index.html\" width=\"1024\" height=\"600\" frameborder=\"0\" ></iframe>"
   ]
  },
  {
   "cell_type": "markdown",
   "metadata": {},
   "source": [
    "### Making a csv file"
   ]
  },
  {
   "cell_type": "code",
   "execution_count": null,
   "metadata": {},
   "outputs": [],
   "source": [
    "%%writefile soccer.csv\n",
    "Total goals,Average ball possession (%),team\n",
    "22,61,Bayern\n",
    "18,56,Barcelona\n",
    "18,53,Paris\n",
    "18,54,Juventus\n",
    "17,51,Dortmund\n",
    "16,43,Monchengladbach\n",
    "15,59,Man_City\n",
    "15,54,Chelsea\n",
    "15,50,Man_United\n",
    "14,40,Porto\n",
    "14,53,Liverpool\n",
    "13,61,Sevilla\n",
    "12,60,Real_Madrid\n",
    "12,46,Lazio\n",
    "11,51,Leipzig\n",
    "10,48,Salzburg\n",
    "10,45,Atalanta\n",
    "8,51,Club_Brugge\n",
    "7,48,Atletico\n",
    "7,45,Istanbul_Basaksehir\n",
    "7,55,Ajax\n",
    "7,51,Internazionale\n",
    "6,40,Krasnodar\n",
    "5,47,Ferencvaros\n",
    "5,47,Shakhtar_Donetsk\n",
    "5,42,Lokomotiv_Moskva\n",
    "4,45,Dynamo_Kyiv\n",
    "4,46,Midtjylland\n",
    "4,47,Zenit\n",
    "3,50,Rennes\n",
    "2,50,Olympiacos\n",
    "2,50,Marseille"
   ]
  },
  {
   "cell_type": "code",
   "execution_count": null,
   "metadata": {
    "scrolled": false
   },
   "outputs": [],
   "source": [
    "import pandas\n",
    "soccer_df = pandas.read_csv('soccer.csv')\n",
    "soccer_df"
   ]
  },
  {
   "cell_type": "markdown",
   "metadata": {},
   "source": [
    "### Making a circle graph for the top 5 teams"
   ]
  },
  {
   "cell_type": "code",
   "execution_count": null,
   "metadata": {
    "scrolled": false
   },
   "outputs": [],
   "source": [
    "import plotly.express as px\n",
    "\n",
    "top5 = soccer_df.iloc[1:5]\n",
    "\n",
    "px.pie(top5,\n",
    "       values=\"Total goals\", names=\"Team\", title=\"Total goals for top 5 teams\")"
   ]
  },
  {
   "cell_type": "markdown",
   "metadata": {},
   "source": [
    "## Breaking down the code\n",
    "\n",
    "- Understand the problem\n",
    "- Read the error messages carefully\n",
    "- Pay attention to details in the code like [ ], **capitals**, and spaces\n",
    "- Python starts counting at **0**"
   ]
  },
  {
   "cell_type": "markdown",
   "metadata": {},
   "source": [
    "## Asking a friend and helping a friend"
   ]
  },
  {
   "cell_type": "markdown",
   "metadata": {},
   "source": [
    "### Creating a csv file by linking directly to the website"
   ]
  },
  {
   "cell_type": "code",
   "execution_count": null,
   "metadata": {
    "scrolled": true
   },
   "outputs": [],
   "source": [
    "url = 'https://www.uefa.com/uefachampionsleague/season=2021/statistics/round=2001252/clubs/kind=goals/index.html'\n",
    "import pandas\n",
    "df = pandas.read_html(url)[0]\n",
    "df.head()"
   ]
  },
  {
   "cell_type": "markdown",
   "metadata": {},
   "source": [
    "### Trying out new ideas... another breaking code example"
   ]
  },
  {
   "cell_type": "code",
   "execution_count": null,
   "metadata": {
    "scrolled": false
   },
   "outputs": [],
   "source": [
    "import plotly.express as px\n",
    "possession = px.scatter(soccer_df,\n",
    "                    x=\"Average ball possession (%)\", y=\"Total goals\", hover_data=\"Team\", \n",
    "                        trendline=\"ols\", title=\"Relationship between average ball possesion (%) and total goals\")\n",
    "possession.show()"
   ]
  },
  {
   "cell_type": "markdown",
   "metadata": {},
   "source": [
    "<center><h1>⚽️ Keep trying and have fun! ⚽️</h1></center>"
   ]
  },
  {
   "cell_type": "markdown",
   "metadata": {},
   "source": [
    "[![Callysto.ca License](https://github.com/callysto/curriculum-notebooks/blob/master/callysto-notebook-banner-bottom.jpg?raw=true)](https://github.com/callysto/curriculum-notebooks/blob/master/LICENSE.md)"
   ]
  }
 ],
 "metadata": {
  "kernelspec": {
   "display_name": "Python 3",
   "language": "python",
   "name": "python3"
  },
  "language_info": {
   "codemirror_mode": {
    "name": "ipython",
    "version": 3
   },
   "file_extension": ".py",
   "mimetype": "text/x-python",
   "name": "python",
   "nbconvert_exporter": "python",
   "pygments_lexer": "ipython3",
   "version": "3.8.8"
  }
 },
 "nbformat": 4,
 "nbformat_minor": 4
}
