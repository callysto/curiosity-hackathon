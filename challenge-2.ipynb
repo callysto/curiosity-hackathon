{
 "cells": [
  {
   "cell_type": "markdown",
   "metadata": {},
   "source": [
    "![Callysto.ca Banner](https://github.com/callysto/curriculum-notebooks/blob/master/callysto-notebook-banner-top.jpg?raw=true)"
   ]
  },
  {
   "cell_type": "markdown",
   "metadata": {},
   "source": [
    "# <p style=\"text-align: center;\">  📌 Challenge 2: Making Data Easy </p>\n",
    "\n",
    "Now that we have successfully accessed the data archives from our friends back on Earth, it's time to explore what pets there are. This will help us get an idea of our options and which pets can be most suitable for life on Mars. \n",
    "\n",
    "**Rover**: *I hope it's dogs!*\n",
    "\n",
    "![https://publicdomainvectors.org/en/free-clipart/Astronaut-in-space/85289.html](Images/astronaut-in-space.jpg)\n",
    "\n",
    "# <p style=\"text-align: center;\"> 🌟🌟🌟🌟🌟🌟🌟🌟🌟🌟🌟🌟🌟🌟🌟🌟🌟🌟🌟🌟🌟🌟🌟🌟🌟🌟🌟🌟🌟🌟 </p>\n"
   ]
  },
  {
   "cell_type": "code",
   "execution_count": 1,
   "metadata": {},
   "outputs": [],
   "source": [
    "#❗️Run this cell\n",
    "import interactive as i\n",
    "from IPython.display import YouTubeVideo\n",
    "#YouTubeVideo('gCcyJdQyvjo')"
   ]
  },
  {
   "cell_type": "markdown",
   "metadata": {},
   "source": [
    "\n",
    "### 📕 Debrief: Heads and Tails\n",
    "You might notice when you view the dataset, it's the *whole* dataset. Say we wanted to only see the first few or the last few rows of the data. To do this, we can use `dataset.head()` to see the first 5 rows or `dataset.tail()` to see the last 5 rows. Try it out below! :) "
   ]
  },
  {
   "cell_type": "code",
   "execution_count": 2,
   "metadata": {},
   "outputs": [
    {
     "data": {
      "text/html": [
       "<div>\n",
       "<style scoped>\n",
       "    .dataframe tbody tr th:only-of-type {\n",
       "        vertical-align: middle;\n",
       "    }\n",
       "\n",
       "    .dataframe tbody tr th {\n",
       "        vertical-align: top;\n",
       "    }\n",
       "\n",
       "    .dataframe thead th {\n",
       "        text-align: right;\n",
       "    }\n",
       "</style>\n",
       "<table border=\"1\" class=\"dataframe\">\n",
       "  <thead>\n",
       "    <tr style=\"text-align: right;\">\n",
       "      <th></th>\n",
       "      <th>Name</th>\n",
       "      <th>Species</th>\n",
       "      <th>Gender</th>\n",
       "      <th>Age (years)</th>\n",
       "      <th>Fixed</th>\n",
       "      <th>Legs</th>\n",
       "      <th>Weight (lbs)</th>\n",
       "      <th>Time to Adoption (weeks)</th>\n",
       "    </tr>\n",
       "  </thead>\n",
       "  <tbody>\n",
       "    <tr>\n",
       "      <th>0</th>\n",
       "      <td>Sasha</td>\n",
       "      <td>cat</td>\n",
       "      <td>female</td>\n",
       "      <td>1</td>\n",
       "      <td>False</td>\n",
       "      <td>4</td>\n",
       "      <td>6.5</td>\n",
       "      <td>3</td>\n",
       "    </tr>\n",
       "    <tr>\n",
       "      <th>1</th>\n",
       "      <td>Mittens</td>\n",
       "      <td>cat</td>\n",
       "      <td>female</td>\n",
       "      <td>2</td>\n",
       "      <td>True</td>\n",
       "      <td>4</td>\n",
       "      <td>7.4</td>\n",
       "      <td>1</td>\n",
       "    </tr>\n",
       "    <tr>\n",
       "      <th>2</th>\n",
       "      <td>Sunflower</td>\n",
       "      <td>cat</td>\n",
       "      <td>female</td>\n",
       "      <td>5</td>\n",
       "      <td>True</td>\n",
       "      <td>4</td>\n",
       "      <td>8.1</td>\n",
       "      <td>6</td>\n",
       "    </tr>\n",
       "    <tr>\n",
       "      <th>3</th>\n",
       "      <td>Sheba</td>\n",
       "      <td>cat</td>\n",
       "      <td>female</td>\n",
       "      <td>7</td>\n",
       "      <td>True</td>\n",
       "      <td>4</td>\n",
       "      <td>8.4</td>\n",
       "      <td>6</td>\n",
       "    </tr>\n",
       "    <tr>\n",
       "      <th>4</th>\n",
       "      <td>Felix</td>\n",
       "      <td>cat</td>\n",
       "      <td>male</td>\n",
       "      <td>16</td>\n",
       "      <td>True</td>\n",
       "      <td>4</td>\n",
       "      <td>9.2</td>\n",
       "      <td>5</td>\n",
       "    </tr>\n",
       "  </tbody>\n",
       "</table>\n",
       "</div>"
      ],
      "text/plain": [
       "        Name Species  Gender  Age (years)  Fixed  Legs  Weight (lbs)  \\\n",
       "0      Sasha     cat  female            1  False     4           6.5   \n",
       "1    Mittens     cat  female            2   True     4           7.4   \n",
       "2  Sunflower     cat  female            5   True     4           8.1   \n",
       "3      Sheba     cat  female            7   True     4           8.4   \n",
       "4      Felix     cat    male           16   True     4           9.2   \n",
       "\n",
       "   Time to Adoption (weeks)  \n",
       "0                         3  \n",
       "1                         1  \n",
       "2                         6  \n",
       "3                         6  \n",
       "4                         5  "
      ]
     },
     "metadata": {},
     "output_type": "display_data"
    },
    {
     "name": "stdout",
     "output_type": "stream",
     "text": [
      " 🐶 Rover:  If I only wanted to see the bottom of a dataset, I would write: \n",
      "pets.tail()\n",
      "\u001b[1;35m🚀 That was great!\u001b[1;0m\n"
     ]
    },
    {
     "data": {
      "text/html": [
       "<div>\n",
       "<style scoped>\n",
       "    .dataframe tbody tr th:only-of-type {\n",
       "        vertical-align: middle;\n",
       "    }\n",
       "\n",
       "    .dataframe tbody tr th {\n",
       "        vertical-align: top;\n",
       "    }\n",
       "\n",
       "    .dataframe thead th {\n",
       "        text-align: right;\n",
       "    }\n",
       "</style>\n",
       "<table border=\"1\" class=\"dataframe\">\n",
       "  <thead>\n",
       "    <tr style=\"text-align: right;\">\n",
       "      <th></th>\n",
       "      <th>Name</th>\n",
       "      <th>Species</th>\n",
       "      <th>Gender</th>\n",
       "      <th>Age (years)</th>\n",
       "      <th>Fixed</th>\n",
       "      <th>Legs</th>\n",
       "      <th>Weight (lbs)</th>\n",
       "      <th>Time to Adoption (weeks)</th>\n",
       "    </tr>\n",
       "  </thead>\n",
       "  <tbody>\n",
       "    <tr>\n",
       "      <th>26</th>\n",
       "      <td>Daisy</td>\n",
       "      <td>dog</td>\n",
       "      <td>female</td>\n",
       "      <td>5</td>\n",
       "      <td>True</td>\n",
       "      <td>4</td>\n",
       "      <td>68.0</td>\n",
       "      <td>8</td>\n",
       "    </tr>\n",
       "    <tr>\n",
       "      <th>27</th>\n",
       "      <td>Ada</td>\n",
       "      <td>dog</td>\n",
       "      <td>female</td>\n",
       "      <td>2</td>\n",
       "      <td>True</td>\n",
       "      <td>4</td>\n",
       "      <td>32.0</td>\n",
       "      <td>3</td>\n",
       "    </tr>\n",
       "    <tr>\n",
       "      <th>28</th>\n",
       "      <td>Miaulis</td>\n",
       "      <td>cat</td>\n",
       "      <td>male</td>\n",
       "      <td>7</td>\n",
       "      <td>False</td>\n",
       "      <td>4</td>\n",
       "      <td>8.8</td>\n",
       "      <td>4</td>\n",
       "    </tr>\n",
       "    <tr>\n",
       "      <th>29</th>\n",
       "      <td>Heathcliff</td>\n",
       "      <td>cat</td>\n",
       "      <td>male</td>\n",
       "      <td>1</td>\n",
       "      <td>True</td>\n",
       "      <td>4</td>\n",
       "      <td>2.1</td>\n",
       "      <td>2</td>\n",
       "    </tr>\n",
       "    <tr>\n",
       "      <th>30</th>\n",
       "      <td>Tinkles</td>\n",
       "      <td>cat</td>\n",
       "      <td>female</td>\n",
       "      <td>1</td>\n",
       "      <td>True</td>\n",
       "      <td>4</td>\n",
       "      <td>1.7</td>\n",
       "      <td>3</td>\n",
       "    </tr>\n",
       "  </tbody>\n",
       "</table>\n",
       "</div>"
      ],
      "text/plain": [
       "          Name Species  Gender  Age (years)  Fixed  Legs  Weight (lbs)  \\\n",
       "26       Daisy     dog  female            5   True     4          68.0   \n",
       "27         Ada     dog  female            2   True     4          32.0   \n",
       "28     Miaulis     cat    male            7  False     4           8.8   \n",
       "29  Heathcliff     cat    male            1   True     4           2.1   \n",
       "30     Tinkles     cat  female            1   True     4           1.7   \n",
       "\n",
       "    Time to Adoption (weeks)  \n",
       "26                         8  \n",
       "27                         3  \n",
       "28                         4  \n",
       "29                         2  \n",
       "30                         3  "
      ]
     },
     "metadata": {},
     "output_type": "display_data"
    }
   ],
   "source": [
    "#❗️Run this cell\n",
    "i.challenge2a()"
   ]
  },
  {
   "cell_type": "markdown",
   "metadata": {},
   "source": [
    "### 📕 Debrief: Selecting Data Columns\n",
    "\n",
    "With the data now easily accessible, let's try using some cool functions from the `pandas` library to get to know our data more. \n",
    "\n",
    "For example, to access the values in a column, we can use `dataset[\"column_name\"]`. In Python `\"\"` and `''` are the same.<br>\n",
    "You can also select multiple columns like this: `dataset[[\"column_name1\", \"column_name2\"]]`. Note the double `[[ ]]` will give you a dataframe, which is most of the time what we want, versus `[]` which will give you only the single column. Later on we will focus more on getting multiple columns, so right now let's just focus on seeing one.\n",
    "\n",
    "To list all the columns in a dataset, use `dataset.columns`."
   ]
  },
  {
   "cell_type": "code",
   "execution_count": 3,
   "metadata": {},
   "outputs": [
    {
     "name": "stdout",
     "output_type": "stream",
     "text": [
      "\u001b[1;37;40m 🐶 Rover: \u001b[1;0m First, we will need to know what columns are in the data. We can do this by either looking at the dataset again, or use \u001b[1;0m \u001b[1;32mdataset_variable_name.columns\u001b[1;0m\n",
      "✅ Try filling in the command to list all the columns: \n",
      "pets.columns\n",
      "\u001b[1;35m🥳 You're out of this world!\u001b[1;0m\n"
     ]
    },
    {
     "data": {
      "text/plain": [
       "Index(['Name', 'Species', 'Gender', 'Age (years)', 'Fixed', 'Legs',\n",
       "       'Weight (lbs)', 'Time to Adoption (weeks)'],\n",
       "      dtype='object')"
      ]
     },
     "execution_count": 3,
     "metadata": {},
     "output_type": "execute_result"
    }
   ],
   "source": [
    "#❗️Run this cell\n",
    "i.challenge2b()"
   ]
  },
  {
   "cell_type": "code",
   "execution_count": 4,
   "metadata": {
    "scrolled": true
   },
   "outputs": [
    {
     "name": "stdout",
     "output_type": "stream",
     "text": [
      "\u001b[1;37;40m 🐶 Rover: \u001b[1;0m Now that we have all the column names, let's choose a couple to look at. How about the \u001b[1;0m \u001b[1;32m'Name' \u001b[1;0m \u001b[1;0mcolumn?\n",
      "\u001b[1;0m \u001b[1;36m✅ Select the column using \u001b[1;0m \u001b[1;32mdataset_variable_name[\"column_name\"]\u001b[1;0m\n",
      "petspets[\"Name\"]\n",
      "\u001b[1;37;40m 🐶 Rover: \u001b[1;0m Remember, it has to be the exact same spelling and case as in the list. Did you double check to use \u001b[1;0m \u001b[1;32m[ ] \u001b[1;0m \u001b[1;0minstead of \u001b[1;0m \u001b[1;32m( )\u001b[1;0m \u001b[1;0m?\u001b[1;0m\n",
      "pets[\"Name\"]\n",
      "\u001b[1;35m🎊 Glad we have you around!\u001b[1;0m\n"
     ]
    },
    {
     "data": {
      "text/plain": [
       "0                Sasha\n",
       "1              Mittens\n",
       "2            Sunflower\n",
       "3                Sheba\n",
       "4                Felix\n",
       "5             Snowcone\n",
       "6                 Wade\n",
       "7             Hercules\n",
       "8               Toggle\n",
       "9              Boo-boo\n",
       "10               Fritz\n",
       "11               Maple\n",
       "12                  Bo\n",
       "13            Midnight\n",
       "14                 Rex\n",
       "15                 Gir\n",
       "16                 Max\n",
       "17                Nori\n",
       "18    Mr. Peanutbutter\n",
       "19               Lucky\n",
       "20                Kujo\n",
       "21               Buddy\n",
       "22                Gila\n",
       "23            Snuffles\n",
       "24             Nibblet\n",
       "25            Snuggles\n",
       "26               Daisy\n",
       "27                 Ada\n",
       "28             Miaulis\n",
       "29          Heathcliff\n",
       "30             Tinkles\n",
       "Name: Name, dtype: object"
      ]
     },
     "execution_count": 4,
     "metadata": {},
     "output_type": "execute_result"
    }
   ],
   "source": [
    "#❗️Run this cell\n",
    "i.challenge2c()"
   ]
  },
  {
   "cell_type": "code",
   "execution_count": 5,
   "metadata": {},
   "outputs": [
    {
     "name": "stdout",
     "output_type": "stream",
     "text": [
      "\u001b[1;37;40m 🐶 Rover: \u001b[1;0m Take a look at the table we generated with the \u001b[1;0m \u001b[1;32m'Name' \u001b[1;0m \u001b[1;0mof the pet.\n",
      "\u001b[1;0m \u001b[1;36m✅ Type the longest name in the list \u001b[1;0m\n",
      "The longest pet name is: Mr. Peanutbutter\n",
      "\u001b[1;35m🎉 You're picking up on this really well!\u001b[1;0m\n"
     ]
    }
   ],
   "source": [
    "#❗️Run this cell\n",
    "i.challenge2d()"
   ]
  },
  {
   "cell_type": "markdown",
   "metadata": {},
   "source": [
    "# 📚 Challenge Complete!"
   ]
  },
  {
   "cell_type": "markdown",
   "metadata": {},
   "source": [
    "You will find out some day why he is named this way (or maybe in the next challenge ... *who knows!*)\n",
    "### <p style=\"text-align: right;\"> ...continue to [Challenge 3!](./challenge-3.ipynb)</p>"
   ]
  },
  {
   "cell_type": "markdown",
   "metadata": {},
   "source": [
    "# <p style=\"text-align: center;\"> 🌟🌟🌟🌟🌟🌟🌟🌟🌟🌟🌟🌟🌟🌟🌟🌟🌟🌟🌟🌟🌟🌟🌟🌟🌟🌟🌟🌟🌟🌟 </p>\n"
   ]
  },
  {
   "cell_type": "markdown",
   "metadata": {},
   "source": [
    "[![Callysto.ca License](https://github.com/callysto/curriculum-notebooks/blob/master/callysto-notebook-banner-bottom.jpg?raw=true)](https://github.com/callysto/curriculum-notebooks/blob/master/LICENSE.md)"
   ]
  }
 ],
 "metadata": {
  "kernelspec": {
   "display_name": "Python 3",
   "language": "python",
   "name": "python3"
  },
  "language_info": {
   "codemirror_mode": {
    "name": "ipython",
    "version": 3
   },
   "file_extension": ".py",
   "mimetype": "text/x-python",
   "name": "python",
   "nbconvert_exporter": "python",
   "pygments_lexer": "ipython3",
   "version": "3.8.6"
  }
 },
 "nbformat": 4,
 "nbformat_minor": 4
}
