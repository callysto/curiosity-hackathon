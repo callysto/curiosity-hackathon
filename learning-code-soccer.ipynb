{
 "cells": [
  {
   "cell_type": "markdown",
   "metadata": {},
   "source": [
    "![Callysto.ca Banner](https://github.com/callysto/curriculum-notebooks/blob/master/callysto-notebook-banner-top.jpg?raw=true)"
   ]
  },
  {
   "cell_type": "markdown",
   "metadata": {},
   "source": [
    "# <p style=\"text-align: center;\"> Breaking code and breaking down the code</p>"
   ]
  },
  {
   "cell_type": "markdown",
   "metadata": {},
   "source": [
    "<h3>Data source: <a href = \"https://www.uefa.com/uefachampionsleague/season=2021/statistics/round=2001252/clubs/kind=distribution/index.html\">UEFA Champions League</a></h3>"
   ]
  },
  {
   "cell_type": "markdown",
   "metadata": {},
   "source": [
    "### Making a csv file\n",
    "Data were collected for the group phase (6 games per team) for the 2020-2021 season."
   ]
  },
  {
   "cell_type": "code",
   "execution_count": null,
   "metadata": {},
   "outputs": [],
   "source": [
    "%%writefile soccer.csv\n",
    "Total goals,Average ball possession (%),Team\n",
    "18,61,Bayern\n",
    "16,57,Barcelona\n",
    "16,44,Monchengladbach\n",
    "15,50,Man. United\n",
    "14,54,Chelsea\n",
    "14,51,Juventus\n",
    "13,59,Man. City\n",
    "13,54,Paris\n",
    "12,56,Dortmund\n",
    "10,53,Liverpool\n",
    "10,41,Porto\n",
    "9,57,Sevilla\n",
    "11,58,Real Madrid\n",
    "11,51,Leipzig\n",
    "11,47,Lazio\n",
    "10,48,RB Salzburg\n",
    "10,47,Atalanta\n",
    "8,51,Club Brugge\n",
    "7,55,Ajax\n",
    "7,51,Inter Milan\n",
    "7,50,Atletico Madrid\n",
    "7,45,Istanbul Basaksehir\n",
    "6,40,Krasnodar\n",
    "5,47,Ferencvaros\n",
    "5,47,Shakhtar Donetsk\n",
    "5,42,Lokomotiv Moskva\n",
    "4,47,Zenit\n",
    "4,46,Midtjylland\n",
    "4,45,Dynamo Kyiv\n",
    "3,50,Rennes\n",
    "2,50,Olympiacos\n",
    "2,50,Marseille"
   ]
  },
  {
   "cell_type": "markdown",
   "metadata": {},
   "source": [
    "### Creating a dataframe"
   ]
  },
  {
   "cell_type": "code",
   "execution_count": null,
   "metadata": {
    "scrolled": true
   },
   "outputs": [],
   "source": [
    "import pandas\n",
    "soccer_df = pandas.read_csv('soccer.csv')\n",
    "soccer_df"
   ]
  },
  {
   "cell_type": "markdown",
   "metadata": {},
   "source": [
    "### Making a circle graph for the top 6 scoring teams\n",
    "**How many goals did teams score?**"
   ]
  },
  {
   "cell_type": "code",
   "execution_count": null,
   "metadata": {
    "scrolled": false
   },
   "outputs": [],
   "source": [
    "top6 = soccer_df.iloc[0:5]\n",
    "top6"
   ]
  },
  {
   "cell_type": "code",
   "execution_count": null,
   "metadata": {},
   "outputs": [],
   "source": [
    "top6.sum()"
   ]
  },
  {
   "cell_type": "markdown",
   "metadata": {},
   "source": [
    "**What percentage of goals did teams score?**"
   ]
  },
  {
   "cell_type": "code",
   "execution_count": null,
   "metadata": {
    "scrolled": true
   },
   "outputs": [],
   "source": [
    "import matplotlib.pyplot as plt\n",
    "\n",
    "values = top6['Total goals']\n",
    "names = top6['team']\n",
    "\n",
    "plt.pie(values, labels = names, autopct='%1.0f%%')\n",
    "plt.title('Goals for top 6 teams')\n",
    "plt.show() "
   ]
  },
  {
   "cell_type": "markdown",
   "metadata": {},
   "source": [
    "**Notice** that within the total goals of the top 6 scoring teams, the percentage of scoring ranges from Bayern with 19% to Chelsea and Juventus with 15%. Barcelona and Monchengladbach both stand at 17%."
   ]
  },
  {
   "cell_type": "markdown",
   "metadata": {},
   "source": [
    "### Making a bar graph for the top 6 scoring teams\n",
    "**How much did the top 6 scoring teams have possession of the ball?**"
   ]
  },
  {
   "cell_type": "code",
   "execution_count": null,
   "metadata": {
    "scrolled": true
   },
   "outputs": [],
   "source": [
    "import matplotlib.pyplot as plt\n",
    "top6 = soccer_df.iloc[0:6]\n",
    "\n",
    "plt.bar(top6['Team'], top6['Average ball posession (%)'])\n",
    "plt.xlabel'Team')\n",
    "plt.ylabel('Average ball possession (%)')\n",
    "plt.title('Ball possession of top 6 scoring teams')\n",
    "plt.show()"
   ]
  },
  {
   "cell_type": "markdown",
   "metadata": {},
   "source": [
    "**Notice** that two of the top scoring teams also have the highest percentage of ball possession: Bayern with 61% and Barcelona with 57%. Although Monchengladbach is tied second for total goals with Barcelona, Monchengladbach only have possession of the ball for 44% of their game play. \n",
    "\n",
    "I wonder how Monchengladbach is a top scorer while possessing the ball less than half the time..."
   ]
  },
  {
   "cell_type": "markdown",
   "metadata": {},
   "source": [
    "## Breaking down the code\n",
    "\n",
    "- Understand the problem\n",
    "- Read the error messages carefully\n",
    "- Pay attention to details in the code like **( )**, **capitals**, and **spelling**\n",
    "- Remember that Python starts counting at **0**\n",
    "- **Ask a friend** if you're stuck"
   ]
  },
  {
   "cell_type": "markdown",
   "metadata": {},
   "source": [
    "<center><h1>⚽️ Keep trying and have fun! ⚽️</h1></center>"
   ]
  },
  {
   "cell_type": "markdown",
   "metadata": {},
   "source": [
    "[![Callysto.ca License](https://github.com/callysto/curriculum-notebooks/blob/master/callysto-notebook-banner-bottom.jpg?raw=true)](https://github.com/callysto/curriculum-notebooks/blob/master/LICENSE.md)"
   ]
  }
 ],
 "metadata": {
  "kernelspec": {
   "display_name": "Python 3",
   "language": "python",
   "name": "python3"
  },
  "language_info": {
   "codemirror_mode": {
    "name": "ipython",
    "version": 3
   },
   "file_extension": ".py",
   "mimetype": "text/x-python",
   "name": "python",
   "nbconvert_exporter": "python",
   "pygments_lexer": "ipython3",
   "version": "3.8.8"
  }
 },
 "nbformat": 4,
 "nbformat_minor": 4
}
